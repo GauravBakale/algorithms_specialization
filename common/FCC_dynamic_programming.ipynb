{
 "cells": [
  {
   "cell_type": "code",
   "execution_count": 8,
   "metadata": {},
   "outputs": [
    {
     "data": {
      "text/plain": [
       "21"
      ]
     },
     "execution_count": 8,
     "metadata": {},
     "output_type": "execute_result"
    }
   ],
   "source": [
    "# regular recursive function\n",
    "def recursive(n):\n",
    "    if n <=2:\n",
    "        return 1\n",
    "    return recursive(n-1) + recursive(n-2)\n",
    "\n",
    "# this works for smaller inputs\n",
    "recursive(8)\n",
    "# for bigger inputs this fails\n",
    "recursive(50)\n",
    "# -- the reason the time complexity of this algorithms is O(2^n)[check obsidian notes]\n"
   ]
  },
  {
   "cell_type": "code",
   "execution_count": 11,
   "metadata": {},
   "outputs": [
    {
     "data": {
      "text/plain": [
       "12586269025"
      ]
     },
     "execution_count": 11,
     "metadata": {},
     "output_type": "execute_result"
    }
   ],
   "source": [
    "# Using memoization to bring the time complexity down to O(n)\n",
    "\n",
    "def recursive(n, memo = {}):\n",
    "    if n <= 2:\n",
    "        return 1\n",
    "    if memo.get(n):\n",
    "        return memo[n]\n",
    "    memo[n] = recursive(n-1, memo) + recursive(n-2, memo)\n",
    "    return memo[n]\n",
    "\n",
    "recursive(50)"
   ]
  }
 ],
 "metadata": {
  "kernelspec": {
   "display_name": "rough",
   "language": "python",
   "name": "python3"
  },
  "language_info": {
   "codemirror_mode": {
    "name": "ipython",
    "version": 3
   },
   "file_extension": ".py",
   "mimetype": "text/x-python",
   "name": "python",
   "nbconvert_exporter": "python",
   "pygments_lexer": "ipython3",
   "version": "3.8.5"
  }
 },
 "nbformat": 4,
 "nbformat_minor": 2
}
