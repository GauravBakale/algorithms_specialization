{
 "cells": [
  {
   "cell_type": "markdown",
   "metadata": {},
   "source": [
    "### Median Maintenance\n",
    "The goal of this problem is to implement the \"Median Maintenance\" algorithm (covered in the Week 3 lecture on heap applications). The text file contains a list of the integers from 1 to 10000 in unsorted order; you should treat this as a stream of numbers, arriving one by one. Letting xi denote the ith number of the file, the kth median mk is defined as the median of the numbers x1,…,xk. (So, if k is odd, then mk is ((k+1)/2)th smallest number among x1,…,xk; if k is even, then mk is the (k/2)th smallest number among x1,…,xk.)\n",
    "\n",
    "In the box below you should type the sum of these 10000 medians, modulo 10000 (i.e., only the last 4 digits). That is, you should compute (m1+m2+m3+⋯+m10000)mod10000.\n",
    "\n",
    "OPTIONAL EXERCISE: Compare the performance achieved by heap-based and search-tree-based implementations of the algorithm."
   ]
  },
  {
   "cell_type": "code",
   "execution_count": 1,
   "metadata": {},
   "outputs": [],
   "source": [
    "import sys\n",
    "sys.path.insert(1, '/Users/gauravbakale/projects/practice/Algorithms')\n",
    "\n",
    "from common.heaps import HeapMax, HeapMin"
   ]
  },
  {
   "cell_type": "code",
   "execution_count": null,
   "metadata": {},
   "outputs": [],
   "source": [
    "# QC: heap min\n",
    "h = HeapMin()\n",
    "\n",
    "# insert\n",
    "items = list(range(0,32))\n",
    "for i in items:\n",
    "    h.insert(i) \n",
    "h.display()\n",
    "\n",
    "# insert\n",
    "h.insert(100)\n",
    "h.insert(-100)\n",
    "h.display()\n",
    "\n",
    "# extract min \n",
    "print(h.extract_min())\n",
    "h.display()\n",
    "print(h.extract_min())\n",
    "h.display()\n",
    "\n",
    "# delete \n",
    "h.delete(20)\n",
    "h.display()\n",
    "\n",
    "# assert heap property\n",
    "h.assert_heap_property()"
   ]
  },
  {
   "cell_type": "code",
   "execution_count": null,
   "metadata": {},
   "outputs": [],
   "source": [
    "# QC: heap max\n",
    "h = HeapMax()\n",
    "\n",
    "# insert\n",
    "items = list(range(0,32))\n",
    "for i in items:\n",
    "    h.insert(i)\n",
    "h.display()\n",
    "\n",
    "# insert\n",
    "h.insert(-100)\n",
    "h.insert(100)\n",
    "h.display()\n",
    "\n",
    "# extract min \n",
    "print(h.extract_max())\n",
    "h.display()\n",
    "print(h.extract_max())\n",
    "h.display()\n",
    "\n",
    "# delete \n",
    "h.delete(20)\n",
    "h.display()\n",
    "\n",
    "# assert heap property\n",
    "h.assert_heap_property()"
   ]
  },
  {
   "cell_type": "code",
   "execution_count": 2,
   "metadata": {},
   "outputs": [],
   "source": [
    "# median maintanance function\n",
    "\n",
    "class MedianMaintain:\n",
    "    \"\"\"\n",
    "        Fetch the median at any point for given i values. Adding a new value should give us the median with only O(logn).\n",
    "\n",
    "        Let the left heap be HeapMax and the right heap(hr) be a HeapMin. \n",
    "        Now, we need to maintain the invariant that at any given point hl has half the data and hr has half the data.\n",
    "        How do we do that?\n",
    "            - assuming that there are 3 elements in hl and 3 elements in hr, if new element i has to be added then it should \n",
    "            be added in hr if it is greater than the root node at hl. This leaves us with 3 elements in hl and 4 elements in hr. \n",
    "            - If the new element j has to be added and is again greater than the root node at hl and we add it to hr then the\n",
    "            the there will be 3 elemnts in hl and 5 elements in hr. This will break the invariant. Therefore, after we insert \n",
    "            the j to hr we need to get the root node from hr and push it to hl. This will still maintain the invariant that\n",
    "            each heap has ~n/2 elements and the median can be retrived by the root nodes.\n",
    "\n",
    "    \"\"\"\n",
    "    def __init__(self):\n",
    "        self.hl = HeapMax()\n",
    "        self.hr = HeapMin()\n",
    "    \n",
    "    def fetch_median(self):\n",
    "\n",
    "        # calculate the difference in heap sizes\n",
    "        elements_count = len(self.hl)-len(self.hr)\n",
    "        \n",
    "        # if both of those have the same elements\n",
    "        if elements_count == 0:\n",
    "            return self.hl.root_node()\n",
    "        # if hl has 1 extra element\n",
    "        if elements_count == 1:\n",
    "            return self.hl.root_node()\n",
    "        # if hr has 1 extra element\n",
    "        if elements_count == -1:\n",
    "            return self.hr.root_node()        \n",
    "\n",
    "    def insert(self,i):\n",
    "\n",
    "        # when the heaps are empty\n",
    "        if len(self.hl) == 0:\n",
    "            self.hl.insert(i)\n",
    "            return i\n",
    "        \n",
    "        # insert the new value to the appropriate heap\n",
    "        if i > self.hl.root_node():\n",
    "            self.hr.insert(i)\n",
    "        else:\n",
    "            self.hl.insert(i)\n",
    "        \n",
    "        # calculate the difference in heap sizes\n",
    "        elements_count = len(self.hl)-len(self.hr)\n",
    "        \n",
    "        # if the invariant is broken\n",
    "        if elements_count == 2:\n",
    "            hl_root_node = self.hl.extract_max()\n",
    "            self.hr.insert(hl_root_node)\n",
    "        if elements_count == -2:\n",
    "            hr_root_node = self.hr.extract_min()\n",
    "            self.hl.insert(hr_root_node)\n",
    "        \n",
    "        if abs(len(self.hl) - len(self.hr)) > 1:\n",
    "            raise AssertionError(\"The insert operation is breaking the ~l/2 invariant\")\n",
    "        \n",
    "        return self.fetch_median()\n"
   ]
  },
  {
   "cell_type": "code",
   "execution_count": 3,
   "metadata": {},
   "outputs": [
    {
     "name": "stdout",
     "output_type": "stream",
     "text": [
      "[42]  :  42\n",
      "[21, 42]  :  21\n",
      "[21, 31, 42]  :  31\n",
      "[21, 31, 31, 42]  :  31\n",
      "[9, 21, 31, 31, 42]  :  31\n",
      "[9, 21, 28, 31, 31, 42]  :  28\n",
      "[9, 21, 28, 31, 31, 36, 42]  :  31\n",
      "[-5, 9, 21, 28, 31, 31, 36, 42]  :  28\n",
      "[-5, 9, 21, 28, 31, 31, 36, 42, 45]  :  31\n",
      "[-5, 1, 9, 21, 28, 31, 31, 36, 42, 45]  :  28\n",
      "[-5, 1, 9, 21, 28, 31, 31, 36, 42, 45, 45]  :  31\n",
      "[-5, 1, 9, 21, 28, 31, 31, 31, 36, 42, 45, 45]  :  31\n",
      "[-5, 1, 9, 21, 28, 31, 31, 31, 36, 36, 42, 45, 45]  :  31\n",
      "[-5, 1, 9, 21, 28, 31, 31, 31, 35, 36, 36, 42, 45, 45]  :  31\n",
      "[-5, -2, 1, 9, 21, 28, 31, 31, 31, 35, 36, 36, 42, 45, 45]  :  31\n",
      "[-5, -2, 1, 9, 21, 21, 28, 31, 31, 31, 35, 36, 36, 42, 45, 45]  :  31\n",
      "[-5, -2, 1, 3, 9, 21, 21, 28, 31, 31, 31, 35, 36, 36, 42, 45, 45]  :  31\n",
      "[-5, -2, 1, 3, 9, 21, 21, 28, 31, 31, 31, 31, 35, 36, 36, 42, 45, 45]  :  31\n",
      "[-12, -5, -2, 1, 3, 9, 21, 21, 28, 31, 31, 31, 31, 35, 36, 36, 42, 45, 45]  :  31\n",
      "[-12, -5, -5, -2, 1, 3, 9, 21, 21, 28, 31, 31, 31, 31, 35, 36, 36, 42, 45, 45]  :  28\n"
     ]
    }
   ],
   "source": [
    "# QC: MedianMaintain class\n",
    "from random import Random\n",
    "rand = Random()\n",
    "\n",
    "mm = MedianMaintain()\n",
    "\n",
    "lst = []\n",
    "for _ in range(20):\n",
    "    val = rand.randint(-20,50)\n",
    "    lst.append(val)\n",
    "    med = mm.insert(val)\n",
    "\n",
    "    print(sorted(lst), \" : \", med)\n",
    "\n"
   ]
  },
  {
   "cell_type": "markdown",
   "metadata": {},
   "source": [
    "### Assignment"
   ]
  },
  {
   "cell_type": "code",
   "execution_count": 5,
   "metadata": {},
   "outputs": [],
   "source": [
    "nums = []\n",
    "with open('Median.txt','r') as file:\n",
    "    for row in file:\n",
    "        nums.append(int(row))"
   ]
  },
  {
   "cell_type": "code",
   "execution_count": 9,
   "metadata": {},
   "outputs": [],
   "source": [
    "mm = MedianMaintain()\n",
    "\n",
    "sum_of_medians = 0\n",
    "\n",
    "for num in nums:\n",
    "    median = mm.insert(num)\n",
    "    sum_of_medians+=median"
   ]
  },
  {
   "cell_type": "code",
   "execution_count": 24,
   "metadata": {},
   "outputs": [
    {
     "data": {
      "text/plain": [
       "1213"
      ]
     },
     "execution_count": 24,
     "metadata": {},
     "output_type": "execute_result"
    }
   ],
   "source": [
    "sum_of_medians%10000"
   ]
  },
  {
   "cell_type": "markdown",
   "metadata": {},
   "source": [
    "### Solution = *1213*"
   ]
  },
  {
   "cell_type": "markdown",
   "metadata": {},
   "source": []
  }
 ],
 "metadata": {
  "kernelspec": {
   "display_name": "rough",
   "language": "python",
   "name": "python3"
  },
  "language_info": {
   "codemirror_mode": {
    "name": "ipython",
    "version": 3
   },
   "file_extension": ".py",
   "mimetype": "text/x-python",
   "name": "python",
   "nbconvert_exporter": "python",
   "pygments_lexer": "ipython3",
   "version": "3.8.5"
  },
  "orig_nbformat": 4
 },
 "nbformat": 4,
 "nbformat_minor": 2
}
