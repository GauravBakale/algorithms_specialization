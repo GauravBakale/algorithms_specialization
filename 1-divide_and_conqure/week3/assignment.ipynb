{
 "cells": [
  {
   "attachments": {},
   "cell_type": "markdown",
   "metadata": {},
   "source": [
    "Question 1\n",
    "\n",
    "![Question1](/Users/gauravbakale/projects/practice/Algorithms/img/img1.png)\n"
   ]
  },
  {
   "cell_type": "code",
   "execution_count": 2,
   "metadata": {},
   "outputs": [],
   "source": [
    "total_count = 0\n",
    "# quick sort\n",
    "def quick_sort_p1(arr):\n",
    "    \n",
    "    l = len(arr)\n",
    "    global total_count\n",
    "    total_count += l-1\n",
    "    # base case\n",
    "    if l == 1:\n",
    "        return arr\n",
    "    \n",
    "    # pick the pivot element\n",
    "    p_ind = 0\n",
    "    pivot = arr[p_ind]\n",
    "\n",
    "    # define the border \n",
    "    border = p_ind\n",
    "    i = p_ind+1\n",
    "\n",
    "    while i < l:\n",
    "        # if the element is less than pivot then it should be swapped with border\n",
    "        # (such that all the elements lesser than pivot always stay to the left of border)\n",
    "        if arr[i]<pivot:\n",
    "            arr[border+1],arr[i] = arr[i], arr[border+1]\n",
    "            border+=1\n",
    "        i+=1\n",
    "    \n",
    "    # swap the element on border with pivot\n",
    "    arr[border],arr[p_ind] = arr[p_ind],arr[border]\n",
    "\n",
    "    if len(arr[:border]) > 0:\n",
    "        if len(arr[border:]) > 1:\n",
    "            return quick_sort_p1(arr[:border]) + [arr[border]] + quick_sort_p1(arr[border+1:])\n",
    "        return quick_sort_p1(arr[:border])+[arr[border]]\n",
    "    elif len(arr[border:]) > 1:\n",
    "        return [arr[border]]+quick_sort_p1(arr[border+1:])\n"
   ]
  },
  {
   "cell_type": "code",
   "execution_count": 3,
   "metadata": {},
   "outputs": [
    {
     "name": "stdout",
     "output_type": "stream",
     "text": [
      "162085\n"
     ]
    }
   ],
   "source": [
    "# read the file given for assignment\n",
    "\n",
    "input_data = open('quick_sort.txt','r').read()\n",
    "input_data = input_data.split('\\n')\n",
    "input_data = list(map(int,input_data))\n",
    "res = quick_sort_p1(input_data)\n",
    "print(total_count)\n"
   ]
  },
  {
   "attachments": {},
   "cell_type": "markdown",
   "metadata": {},
   "source": [
    "Question 2\n",
    "\n",
    "![Question2](/Users/gauravbakale/projects/practice/Algorithms/img/img2.png)"
   ]
  },
  {
   "cell_type": "code",
   "execution_count": 4,
   "metadata": {},
   "outputs": [
    {
     "data": {
      "text/plain": [
       "[1, 1, 2, 2, 3, 3, 4, 4, 5, 5, 6, 6, 6, 8, 8, 67]"
      ]
     },
     "execution_count": 4,
     "metadata": {},
     "output_type": "execute_result"
    }
   ],
   "source": [
    "total_count = 0\n",
    "# quick sort\n",
    "def quick_sort_p2(arr):\n",
    "    \n",
    "    l = len(arr)\n",
    "    global total_count\n",
    "    total_count += l-1\n",
    "    # base case\n",
    "    if l == 1:\n",
    "        return arr\n",
    "    \n",
    "    # pick the pivot element\n",
    "    p_ind = l-1\n",
    "    pivot = arr[p_ind]\n",
    "\n",
    "    # define the border \n",
    "    border = 0\n",
    "    i = 0\n",
    "\n",
    "    while i < l-1:\n",
    "        if arr[i] < pivot:\n",
    "            arr[border], arr[i] = arr[i], arr[border]\n",
    "            border+=1\n",
    "        i+=1\n",
    "    # swap the element on border with pivot\n",
    "    arr[border],arr[p_ind] = arr[p_ind],arr[border]\n",
    "\n",
    "    if len(arr[:border]) > 0:\n",
    "        if len(arr[border+1:]) > 0:\n",
    "            return quick_sort_p2(arr[:border]) + [arr[border]] + quick_sort_p2(arr[border+1:])\n",
    "        return quick_sort_p2(arr[:border])+[arr[border]]\n",
    "    elif len(arr[border+1:]) > 0:\n",
    "        return [arr[border]]+quick_sort_p2(arr[border+1:])\n",
    "    \n",
    "res = quick_sort_p2([8,6,5,4,3,2,1,1,2,3,4,5,6,6,67,8])\n",
    "res\n"
   ]
  },
  {
   "cell_type": "code",
   "execution_count": 5,
   "metadata": {},
   "outputs": [
    {
     "name": "stdout",
     "output_type": "stream",
     "text": [
      "160415\n"
     ]
    }
   ],
   "source": [
    "# read the file given for assignment\n",
    "\n",
    "input_data = open('quick_sort.txt','r').read()\n",
    "input_data = input_data.split('\\n')\n",
    "input_data = list(map(int,input_data))\n",
    "res = quick_sort_p2(input_data)\n",
    "print(total_count)\n"
   ]
  },
  {
   "cell_type": "code",
   "execution_count": 6,
   "metadata": {},
   "outputs": [],
   "source": [
    "with open('quick_sort_sorted_2.txt', 'w') as f:\n",
    "    for line in res:\n",
    "        f.write(str(line)+'\\n')"
   ]
  },
  {
   "attachments": {},
   "cell_type": "markdown",
   "metadata": {},
   "source": [
    "Question 3\n",
    "\n",
    "![Question3](/Users/gauravbakale/projects/practice/Algorithms/img/img3.png)"
   ]
  },
  {
   "cell_type": "code",
   "execution_count": 9,
   "metadata": {},
   "outputs": [],
   "source": [
    "\n",
    "total_count = 0 \n",
    "def quick_sort_p3(arr):\n",
    "    l = len(arr)\n",
    "    global total_count\n",
    "    total_count+= l-1\n",
    "\n",
    "    if l <= 1:\n",
    "        return arr\n",
    "\n",
    "    if l >= 2:    \n",
    "        ind_med_arr = [\n",
    "            0, \n",
    "            (l//2)-1 if l%2==0 else (l//2), \n",
    "            (l-1)\n",
    "        ]\n",
    "        med_arr = []\n",
    "        for ind in ind_med_arr:\n",
    "            med_arr.append((ind, arr[ind]))\n",
    "\n",
    "        pivot = sorted([med_arr[0][1], med_arr[1][1], med_arr[2][1]])[1]\n",
    "\n",
    "        for ele in med_arr:\n",
    "            if ele[1] == pivot:\n",
    "                pivot_ind = ele[0]\n",
    "\n",
    "\n",
    "\n",
    "    border = 0\n",
    "    counter = 0\n",
    "    while counter < l:\n",
    "        if counter == pivot_ind:\n",
    "            counter+=1\n",
    "        if border == pivot_ind:\n",
    "            border+=1\n",
    "            # continue\n",
    "        if border == l or counter == l:\n",
    "            continue\n",
    "\n",
    "\n",
    "        if arr[counter] <= pivot:\n",
    "            arr[border], arr[counter] = arr[counter], arr[border] \n",
    "            border+=1\n",
    "        counter+=1\n",
    "\n",
    "    if pivot_ind < border:\n",
    "        arr[pivot_ind], arr[border-1] = arr[border-1], arr[pivot_ind]\n",
    "        pivot_ind = border-1\n",
    "    else:\n",
    "        arr[pivot_ind], arr[border] = arr[border], arr[pivot_ind]\n",
    "        pivot_ind = border\n",
    "\n",
    "    return quick_sort_p3(arr[:pivot_ind]) + [arr[pivot_ind]] + quick_sort_p3([] if pivot_ind == l-1 else arr[pivot_ind+1:])\n",
    "    \n",
    "\n",
    "\n",
    "\n",
    "# arr = [9,7,2,8,7,3,4,7,6,4,5,6,5,6,7,1]\n",
    "# quick_sort_p3(arr)\n"
   ]
  },
  {
   "cell_type": "code",
   "execution_count": 10,
   "metadata": {},
   "outputs": [
    {
     "name": "stdout",
     "output_type": "stream",
     "text": [
      "130150\n"
     ]
    }
   ],
   "source": [
    "# read the file given for assignment\n",
    "\n",
    "input_data = open('quick_sort.txt','r').read()\n",
    "input_data = input_data.split('\\n')\n",
    "input_data = list(map(int,input_data))\n",
    "res = quick_sort_p3(input_data)\n",
    "print(total_count)\n"
   ]
  },
  {
   "cell_type": "code",
   "execution_count": 14,
   "metadata": {},
   "outputs": [],
   "source": [
    "with open('quick_sort_sorted_3.txt', 'w') as f:\n",
    "    for line in res:\n",
    "        f.write(str(line)+'\\n')"
   ]
  }
 ],
 "metadata": {
  "kernelspec": {
   "display_name": "rough",
   "language": "python",
   "name": "python3"
  },
  "language_info": {
   "codemirror_mode": {
    "name": "ipython",
    "version": 3
   },
   "file_extension": ".py",
   "mimetype": "text/x-python",
   "name": "python",
   "nbconvert_exporter": "python",
   "pygments_lexer": "ipython3",
   "version": "3.8.5"
  },
  "orig_nbformat": 4
 },
 "nbformat": 4,
 "nbformat_minor": 2
}
