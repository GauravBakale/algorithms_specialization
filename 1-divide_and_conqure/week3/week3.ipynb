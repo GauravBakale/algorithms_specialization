{
 "cells": [
  {
   "cell_type": "markdown",
   "metadata": {},
   "source": [
    "## Probablity review(notes)"
   ]
  },
  {
   "cell_type": "markdown",
   "metadata": {},
   "source": [
    "## Randomized selection algorithm"
   ]
  },
  {
   "attachments": {},
   "cell_type": "markdown",
   "metadata": {},
   "source": [
    "#### Problem Statement\n",
    "Given a array with n entries find the ${ i_{th} }$  smallest element\n",
    "\n",
    "Note1 : the max and min or the average of the array can be returned in linear time.\n",
    "\n",
    "Note2 : This can be reduced to a sorting problem. Use any of the nlogn runtimed algorithms to sort it and then return the ith element.\n",
    "\n",
    "Can we do better?\n",
    "\n",
    "Yes. Modifying QuickSort to achieve $O(n)$ running time for this problem\n",
    "\n",
    "Keep in mind that the pivot always ends up in its rightful position"
   ]
  },
  {
   "cell_type": "code",
   "execution_count": 191,
   "metadata": {},
   "outputs": [
    {
     "name": "stdout",
     "output_type": "stream",
     "text": [
      "The 9th smallest element in [3, 4, 2, 1, 5, 6, 8, 7, 100] is 100\n"
     ]
    }
   ],
   "source": [
    "from random import Random\n",
    "\n",
    "rand = Random()\n",
    "\n",
    "def random_selection_algorithm(arr,x):\n",
    "    l = len(arr)\n",
    "    if l ==1:\n",
    "        return arr[0]\n",
    "    r = rand.randint(0,l-1)\n",
    "    pivot = arr[r]\n",
    "\n",
    "    if r != 0:\n",
    "        arr[0],arr[r] = arr[r],arr[0]\n",
    "    \n",
    "    border1 = 1\n",
    "    border2 = 0\n",
    "\n",
    "    for _ in range(l-1):\n",
    "        if arr[border1] < pivot:\n",
    "            arr[border2+1],arr[border1] = arr[border1], arr[border2+1]\n",
    "            border2+=1\n",
    "        border1+=1\n",
    "\n",
    "    arr[0], arr[border2] = arr[border2], arr[0]\n",
    "\n",
    "    if x-1 == border2:\n",
    "        return arr[border2]\n",
    "    elif x-1 < border2:\n",
    "        return random_selection_algorithm(arr[0:border2],x)\n",
    "    else:\n",
    "        return random_selection_algorithm(arr[border2+1:], x-(border2+1))\n",
    "\n",
    "\n",
    "arr = [8,7,6,5,4,2,1,3,100]\n",
    "x = 9\n",
    "output = random_selection_algorithm(arr,x)\n",
    "\n",
    "print(f\"The {x}th smallest element in {arr} is {output}\")\n",
    "\n",
    "\n"
   ]
  },
  {
   "attachments": {},
   "cell_type": "markdown",
   "metadata": {},
   "source": [
    "## Deterministic Selection Algorithm\n",
    "\n",
    "This works on the key idea of finding \"median of medians\" which will be used as a pivot which will give us a 30-70 split or better(proof notes)"
   ]
  },
  {
   "cell_type": "code",
   "execution_count": 10,
   "metadata": {},
   "outputs": [
    {
     "ename": "RecursionError",
     "evalue": "maximum recursion depth exceeded while calling a Python object",
     "output_type": "error",
     "traceback": [
      "\u001b[0;31m---------------------------------------------------------------------------\u001b[0m",
      "\u001b[0;31mRecursionError\u001b[0m                            Traceback (most recent call last)",
      "\u001b[0;32m/var/folders/rl/tz12vvqs3q98rhxmz1mkz6_w0000gn/T/ipykernel_5559/1115958963.py\u001b[0m in \u001b[0;36m<module>\u001b[0;34m\u001b[0m\n\u001b[1;32m     41\u001b[0m \u001b[0marr\u001b[0m \u001b[0;34m=\u001b[0m \u001b[0;34m[\u001b[0m\u001b[0mrand\u001b[0m\u001b[0;34m.\u001b[0m\u001b[0mrandint\u001b[0m\u001b[0;34m(\u001b[0m\u001b[0;36m1\u001b[0m\u001b[0;34m,\u001b[0m\u001b[0;36m100\u001b[0m\u001b[0;34m)\u001b[0m \u001b[0;32mfor\u001b[0m \u001b[0m_\u001b[0m \u001b[0;32min\u001b[0m \u001b[0mrange\u001b[0m\u001b[0;34m(\u001b[0m\u001b[0;36m1\u001b[0m\u001b[0;34m,\u001b[0m\u001b[0;36m20\u001b[0m\u001b[0;34m)\u001b[0m\u001b[0;34m]\u001b[0m\u001b[0;34m\u001b[0m\u001b[0;34m\u001b[0m\u001b[0m\n\u001b[1;32m     42\u001b[0m \u001b[0mk\u001b[0m \u001b[0;34m=\u001b[0m \u001b[0;36m5\u001b[0m\u001b[0;34m\u001b[0m\u001b[0;34m\u001b[0m\u001b[0m\n\u001b[0;32m---> 43\u001b[0;31m \u001b[0moutput\u001b[0m \u001b[0;34m=\u001b[0m \u001b[0mdeterministic_search\u001b[0m\u001b[0;34m(\u001b[0m\u001b[0marr\u001b[0m\u001b[0;34m,\u001b[0m \u001b[0mk\u001b[0m\u001b[0;34m)\u001b[0m\u001b[0;34m\u001b[0m\u001b[0;34m\u001b[0m\u001b[0m\n\u001b[0m",
      "\u001b[0;32m/var/folders/rl/tz12vvqs3q98rhxmz1mkz6_w0000gn/T/ipykernel_5559/1115958963.py\u001b[0m in \u001b[0;36mdeterministic_search\u001b[0;34m(arr, k)\u001b[0m\n\u001b[1;32m     19\u001b[0m         \u001b[0mpivot\u001b[0m \u001b[0;34m=\u001b[0m \u001b[0mm_of_m\u001b[0m\u001b[0;34m[\u001b[0m\u001b[0;36m0\u001b[0m\u001b[0;34m]\u001b[0m\u001b[0;34m\u001b[0m\u001b[0;34m\u001b[0m\u001b[0m\n\u001b[1;32m     20\u001b[0m     \u001b[0;32melse\u001b[0m\u001b[0;34m:\u001b[0m\u001b[0;34m\u001b[0m\u001b[0;34m\u001b[0m\u001b[0m\n\u001b[0;32m---> 21\u001b[0;31m         \u001b[0mpivot\u001b[0m \u001b[0;34m=\u001b[0m \u001b[0mdeterministic_search\u001b[0m\u001b[0;34m(\u001b[0m\u001b[0mm_of_m\u001b[0m\u001b[0;34m,\u001b[0m\u001b[0mlen\u001b[0m\u001b[0;34m(\u001b[0m\u001b[0mm_of_m\u001b[0m\u001b[0;34m)\u001b[0m\u001b[0;34m//\u001b[0m\u001b[0;36m2\u001b[0m\u001b[0;34m)\u001b[0m\u001b[0;34m\u001b[0m\u001b[0;34m\u001b[0m\u001b[0m\n\u001b[0m\u001b[1;32m     22\u001b[0m \u001b[0;34m\u001b[0m\u001b[0m\n\u001b[1;32m     23\u001b[0m     \u001b[0mborder1\u001b[0m \u001b[0;34m=\u001b[0m \u001b[0;36m0\u001b[0m\u001b[0;34m\u001b[0m\u001b[0;34m\u001b[0m\u001b[0m\n",
      "\u001b[0;32m/var/folders/rl/tz12vvqs3q98rhxmz1mkz6_w0000gn/T/ipykernel_5559/1115958963.py\u001b[0m in \u001b[0;36mdeterministic_search\u001b[0;34m(arr, k)\u001b[0m\n\u001b[1;32m     34\u001b[0m         \u001b[0;32mreturn\u001b[0m \u001b[0mpivot\u001b[0m\u001b[0;34m\u001b[0m\u001b[0;34m\u001b[0m\u001b[0m\n\u001b[1;32m     35\u001b[0m     \u001b[0;32melif\u001b[0m \u001b[0mk\u001b[0m\u001b[0;34m-\u001b[0m\u001b[0;36m1\u001b[0m \u001b[0;34m<\u001b[0m \u001b[0mborder2\u001b[0m\u001b[0;34m:\u001b[0m\u001b[0;34m\u001b[0m\u001b[0;34m\u001b[0m\u001b[0m\n\u001b[0;32m---> 36\u001b[0;31m         \u001b[0;32mreturn\u001b[0m \u001b[0mdeterministic_search\u001b[0m\u001b[0;34m(\u001b[0m\u001b[0marr\u001b[0m\u001b[0;34m[\u001b[0m\u001b[0;36m0\u001b[0m\u001b[0;34m:\u001b[0m\u001b[0mborder2\u001b[0m\u001b[0;34m]\u001b[0m\u001b[0;34m,\u001b[0m \u001b[0mk\u001b[0m\u001b[0;34m)\u001b[0m\u001b[0;34m\u001b[0m\u001b[0;34m\u001b[0m\u001b[0m\n\u001b[0m\u001b[1;32m     37\u001b[0m     \u001b[0;32melse\u001b[0m\u001b[0;34m:\u001b[0m\u001b[0;34m\u001b[0m\u001b[0;34m\u001b[0m\u001b[0m\n\u001b[1;32m     38\u001b[0m         \u001b[0;32mreturn\u001b[0m \u001b[0mdeterministic_search\u001b[0m\u001b[0;34m(\u001b[0m\u001b[0marr\u001b[0m\u001b[0;34m[\u001b[0m\u001b[0mborder2\u001b[0m\u001b[0;34m+\u001b[0m\u001b[0;36m1\u001b[0m\u001b[0;34m:\u001b[0m\u001b[0;34m]\u001b[0m\u001b[0;34m,\u001b[0m\u001b[0mk\u001b[0m\u001b[0;34m-\u001b[0m\u001b[0;34m(\u001b[0m\u001b[0mborder2\u001b[0m\u001b[0;34m+\u001b[0m\u001b[0;36m1\u001b[0m\u001b[0;34m)\u001b[0m\u001b[0;34m)\u001b[0m\u001b[0;34m\u001b[0m\u001b[0;34m\u001b[0m\u001b[0m\n",
      "... last 1 frames repeated, from the frame below ...\n",
      "\u001b[0;32m/var/folders/rl/tz12vvqs3q98rhxmz1mkz6_w0000gn/T/ipykernel_5559/1115958963.py\u001b[0m in \u001b[0;36mdeterministic_search\u001b[0;34m(arr, k)\u001b[0m\n\u001b[1;32m     34\u001b[0m         \u001b[0;32mreturn\u001b[0m \u001b[0mpivot\u001b[0m\u001b[0;34m\u001b[0m\u001b[0;34m\u001b[0m\u001b[0m\n\u001b[1;32m     35\u001b[0m     \u001b[0;32melif\u001b[0m \u001b[0mk\u001b[0m\u001b[0;34m-\u001b[0m\u001b[0;36m1\u001b[0m \u001b[0;34m<\u001b[0m \u001b[0mborder2\u001b[0m\u001b[0;34m:\u001b[0m\u001b[0;34m\u001b[0m\u001b[0;34m\u001b[0m\u001b[0m\n\u001b[0;32m---> 36\u001b[0;31m         \u001b[0;32mreturn\u001b[0m \u001b[0mdeterministic_search\u001b[0m\u001b[0;34m(\u001b[0m\u001b[0marr\u001b[0m\u001b[0;34m[\u001b[0m\u001b[0;36m0\u001b[0m\u001b[0;34m:\u001b[0m\u001b[0mborder2\u001b[0m\u001b[0;34m]\u001b[0m\u001b[0;34m,\u001b[0m \u001b[0mk\u001b[0m\u001b[0;34m)\u001b[0m\u001b[0;34m\u001b[0m\u001b[0;34m\u001b[0m\u001b[0m\n\u001b[0m\u001b[1;32m     37\u001b[0m     \u001b[0;32melse\u001b[0m\u001b[0;34m:\u001b[0m\u001b[0;34m\u001b[0m\u001b[0;34m\u001b[0m\u001b[0m\n\u001b[1;32m     38\u001b[0m         \u001b[0;32mreturn\u001b[0m \u001b[0mdeterministic_search\u001b[0m\u001b[0;34m(\u001b[0m\u001b[0marr\u001b[0m\u001b[0;34m[\u001b[0m\u001b[0mborder2\u001b[0m\u001b[0;34m+\u001b[0m\u001b[0;36m1\u001b[0m\u001b[0;34m:\u001b[0m\u001b[0;34m]\u001b[0m\u001b[0;34m,\u001b[0m\u001b[0mk\u001b[0m\u001b[0;34m-\u001b[0m\u001b[0;34m(\u001b[0m\u001b[0mborder2\u001b[0m\u001b[0;34m+\u001b[0m\u001b[0;36m1\u001b[0m\u001b[0;34m)\u001b[0m\u001b[0;34m)\u001b[0m\u001b[0;34m\u001b[0m\u001b[0;34m\u001b[0m\u001b[0m\n",
      "\u001b[0;31mRecursionError\u001b[0m: maximum recursion depth exceeded while calling a Python object"
     ]
    }
   ],
   "source": [
    "from random import Random\n",
    "\n",
    "def median(arr):\n",
    "    return sorted(arr)[(len(arr)//2)]\n",
    "\n",
    "def deterministic_search(arr , k):\n",
    "    # constants\n",
    "    split_factor = 5\n",
    "\n",
    "    l = len(arr)\n",
    "    if l == 1:\n",
    "        arr[0]\n",
    "\n",
    "    m_of_m = []\n",
    "    for i in range(0,l,split_factor):\n",
    "        m_of_m.append(median(arr[i:i+split_factor][:]))\n",
    "    \n",
    "    if len(m_of_m)==1:\n",
    "        pivot = m_of_m[0]\n",
    "    else:\n",
    "        pivot = deterministic_search(m_of_m,len(m_of_m)//2)\n",
    "    \n",
    "    border1 = 0\n",
    "    border2 = 0\n",
    "\n",
    "    while border1 < len(arr):\n",
    "        if arr[border1] <= pivot:\n",
    "            arr[border1], arr[border2] = arr[border2],arr[border1]\n",
    "            border2+=1\n",
    "        border1+=1\n",
    "\n",
    "    \n",
    "    if k-1 == border2:\n",
    "        return pivot\n",
    "    elif k-1 < border2:\n",
    "        return deterministic_search(arr[0:border2], k)\n",
    "    else:\n",
    "        return deterministic_search(arr[border2+1:],k-(border2+1))\n",
    "\n",
    "rand = Random()\n",
    "arr = [rand.randint(1,100) for _ in range(1,20)]\n",
    "k = 5\n",
    "output = deterministic_search(arr, k)"
   ]
  },
  {
   "cell_type": "code",
   "execution_count": 9,
   "metadata": {},
   "outputs": [
    {
     "name": "stdout",
     "output_type": "stream",
     "text": [
      "[3, 2, 1, 6, 5, 4, 8, 7] 8 3\n"
     ]
    }
   ],
   "source": [
    "a = [4,8,7,6,5,3,2,1]\n",
    "\n",
    "pivot = 4\n",
    "\n",
    "border1 = 1 \n",
    "border2 = 0\n",
    "while border1 < len(a):\n",
    "    if a[border1] < pivot:\n",
    "        a[border1], a[border2] = a[border2], a[border1]\n",
    "        border2+=1\n",
    "    border1+=1\n",
    "\n",
    "print(a,border1, border2)"
   ]
  }
 ],
 "metadata": {
  "kernelspec": {
   "display_name": "Python 3",
   "language": "python",
   "name": "python3"
  },
  "language_info": {
   "codemirror_mode": {
    "name": "ipython",
    "version": 3
   },
   "file_extension": ".py",
   "mimetype": "text/x-python",
   "name": "python",
   "nbconvert_exporter": "python",
   "pygments_lexer": "ipython3",
   "version": "3.8.9"
  },
  "orig_nbformat": 4,
  "vscode": {
   "interpreter": {
    "hash": "31f2aee4e71d21fbe5cf8b01ff0e069b9275f58929596ceb00d14d90e3e16cd6"
   }
  }
 },
 "nbformat": 4,
 "nbformat_minor": 2
}
