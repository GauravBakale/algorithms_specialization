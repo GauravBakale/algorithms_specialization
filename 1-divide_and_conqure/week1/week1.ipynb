{
 "cells": [
  {
   "attachments": {},
   "cell_type": "markdown",
   "metadata": {},
   "source": [
    "# WEEK-1"
   ]
  },
  {
   "attachments": {},
   "cell_type": "markdown",
   "metadata": {},
   "source": [
    "### I. Introduction"
   ]
  },
  {
   "cell_type": "code",
   "execution_count": null,
   "metadata": {},
   "outputs": [],
   "source": [
    "# Karatsuba Multiplication\n",
    "from math import ceil, floor, log\n",
    "\n",
    "total_multiplications = 0\n",
    "def karatsuba_multiplication(a,b):\n",
    "    global total_multiplications\n",
    "    # Base condition\n",
    "    if a<10 and b<10:\n",
    "        total_multiplications +=1\n",
    "        return a*b\n",
    "\n",
    "    # processing input\n",
    "    a = str(a)\n",
    "    b = str(b)\n",
    "    lb = len(b)\n",
    "    la = len(a)\n",
    "    lmax = max(la,lb)\n",
    "\n",
    "    n_digits = lmax\n",
    "    if log(lmax,2) != int(log(lmax,2)):\n",
    "        n_digits = 2**(floor(log(lmax,2))+1)\n",
    "    while la != n_digits:\n",
    "        a = '0'+a\n",
    "        la=len(a)\n",
    "    while lb != n_digits:\n",
    "        b = '0'+b\n",
    "        lb=len(b)\n",
    "\n",
    "    #divide the numbers into 2 parts\n",
    "    if int(a)>9:\n",
    "        m = int(a[0:la//2])\n",
    "        n = int(a[la//2:la])\n",
    "    else:\n",
    "        m = 0\n",
    "        n = int(a)\n",
    "    if int(b)>0:\n",
    "        o = int(b[0:lb//2])\n",
    "        p = int(b[lb//2:lb])\n",
    "    else:\n",
    "        o = 0\n",
    "        p = int(b)\n",
    "\n",
    "    # apply the karatsuba algorithms\n",
    "    mo = karatsuba_multiplication(m,o)\n",
    "    np = karatsuba_multiplication(n,p)\n",
    "    mp_no = karatsuba_multiplication(m+n,o+p)-mo-np\n",
    "    res = mo*pow(10,n_digits) +pow(10,(n_digits//2))*mp_no +np\n",
    "    return mo*pow(10,n_digits) +pow(10,(n_digits//2))*mp_no +np\n",
    "\n",
    "\n",
    "a = 999999\n",
    "b = 999999\n",
    "print(\"output : \",karatsuba_multiplication(a,b))\n",
    "print(\"expected : \",a*b)\n",
    "print(\"N = \",len(str(b)))\n",
    "print(\"total__multiplications\",total_multiplications)"
   ]
  },
  {
   "cell_type": "code",
   "execution_count": 12,
   "metadata": {},
   "outputs": [
    {
     "name": "stdout",
     "output_type": "stream",
     "text": [
      "input:  [8, 7, 6, 5, 4, 3, 2, 1]\n",
      "output:  [1, 2, 3, 4, 5, 6, 7, 8]\n",
      "iterations:  12\n"
     ]
    }
   ],
   "source": [
    "# merge sort\n",
    "iterations = 0\n",
    "def merge_sort(inp):\n",
    "    global iterations\n",
    "    l = len(inp)\n",
    "    if l == 1:\n",
    "        return inp\n",
    "\n",
    "    a = inp[0:l//2]\n",
    "    b = inp[l//2:l]\n",
    "    a = merge_sort(a)\n",
    "    b = merge_sort(b)\n",
    "\n",
    "    opt = []\n",
    "    i = j = 0\n",
    "    while i<len(a) and j<len(b):\n",
    "        if a[i] < b[j]:\n",
    "            iterations+=1\n",
    "            opt.append(a[i])\n",
    "            i = i+1\n",
    "        else:\n",
    "            iterations+=1\n",
    "            opt.append(b[j])\n",
    "            j = j+1\n",
    "        \n",
    "\n",
    "    if i != len(a):\n",
    "        opt = opt + a[i:]\n",
    "    if j != len(b):\n",
    "        opt = opt + b[j:]\n",
    "    return opt\n",
    "\n",
    "input = [8,7,6,5,4,3,2,1]\n",
    "output = merge_sort(input)\n",
    "print(\"input: \", input)\n",
    "print(\"output: \",output)\n",
    "print(\"iterations: \", iterations)\n"
   ]
  },
  {
   "cell_type": "code",
   "execution_count": null,
   "metadata": {},
   "outputs": [],
   "source": []
  }
 ],
 "metadata": {
  "kernelspec": {
   "display_name": "isp",
   "language": "python",
   "name": "python3"
  },
  "language_info": {
   "codemirror_mode": {
    "name": "ipython",
    "version": 3
   },
   "file_extension": ".py",
   "mimetype": "text/x-python",
   "name": "python",
   "nbconvert_exporter": "python",
   "pygments_lexer": "ipython3",
   "version": "3.8.5"
  },
  "orig_nbformat": 4,
  "vscode": {
   "interpreter": {
    "hash": "ca9bb20f1df76646885756e2016b8a65774570701276e79d72d1726cee3a5d80"
   }
  }
 },
 "nbformat": 4,
 "nbformat_minor": 2
}
